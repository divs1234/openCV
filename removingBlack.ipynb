{
 "cells": [
  {
   "cell_type": "code",
   "execution_count": 54,
   "metadata": {},
   "outputs": [
    {
     "name": "stderr",
     "output_type": "stream",
     "text": [
      "A subdirectory or file obj already exists.\n"
     ]
    }
   ],
   "source": [
    "mkdir obj"
   ]
  },
  {
   "cell_type": "code",
   "execution_count": 6,
   "metadata": {},
   "outputs": [],
   "source": [
    "import cv2\n",
    "import numpy as np\n",
    "import math\n",
    "cap = cv2.VideoCapture(0)\n",
    "count=0"
   ]
  },
  {
   "cell_type": "code",
   "execution_count": 7,
   "metadata": {
    "scrolled": true
   },
   "outputs": [],
   "source": [
    "\n",
    "while(1):\n",
    "    ret, frame = cap.read()\n",
    "    frame = cv2.flip(frame,1);\n",
    "    kernel = np.ones((3,3),np.uint8)\n",
    "    cv2.imshow('original',frame)\n",
    "    hsv = cv2.cvtColor(frame, cv2.COLOR_BGR2HSV)\n",
    "    \n",
    "    lower_black = np.array([0,0,0], dtype=np.uint8)\n",
    "    upper_black = np.array([180, 255, 100], dtype=np.uint8)\n",
    "    \n",
    "    lower_skin = np.array([0,20,70], dtype=np.uint8)\n",
    "    upper_skin = np.array([20,255,255], dtype=np.uint8)\n",
    "    \n",
    "    mask = cv2.inRange(hsv, lower_black, upper_black)    \n",
    "    mask = cv2.bitwise_not(mask)\n",
    "    res = cv2.bitwise_and(frame,frame, mask= mask)\n",
    "    cv2.imshow('black threshold',res)\n",
    "    cv2.imshow('black mask',mask)\n",
    "    \n",
    "    mask1 = cv2.inRange(hsv, lower_skin, upper_skin)\n",
    "    cv2.imshow('only skin after removing black mask',mask1)\n",
    "    mask1 = cv2.bitwise_not(mask1)\n",
    "    res = cv2.bitwise_and(res,res, mask= mask1)\n",
    "    cv2.imshow('final image',res)\n",
    "    \n",
    "    count = count+1\n",
    "    #if ( count%10==0)\n",
    "   #cv2.imwrite(\"obj/1.\" + str(count) + \".jpg\", gray[y:y+h,x:x+w])\n",
    "    \n",
    "    k = cv2.waitKey(5) & 0xFF\n",
    "    if k == 27:\n",
    "        break\n",
    "    elif count >= 1000:\n",
    "         break\n",
    "cv2.destroyAllWindows()\n",
    "cap.release() "
   ]
  },
  {
   "cell_type": "code",
   "execution_count": null,
   "metadata": {},
   "outputs": [],
   "source": []
  },
  {
   "cell_type": "code",
   "execution_count": null,
   "metadata": {},
   "outputs": [],
   "source": []
  },
  {
   "cell_type": "code",
   "execution_count": null,
   "metadata": {},
   "outputs": [],
   "source": []
  }
 ],
 "metadata": {
  "kernelspec": {
   "display_name": "Python 3",
   "language": "python",
   "name": "python3"
  },
  "language_info": {
   "codemirror_mode": {
    "name": "ipython",
    "version": 3
   },
   "file_extension": ".py",
   "mimetype": "text/x-python",
   "name": "python",
   "nbconvert_exporter": "python",
   "pygments_lexer": "ipython3",
   "version": "3.6.4"
  }
 },
 "nbformat": 4,
 "nbformat_minor": 2
}
