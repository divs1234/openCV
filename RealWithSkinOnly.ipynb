{
 "cells": [
  {
   "cell_type": "code",
   "execution_count": 2,
   "metadata": {},
   "outputs": [],
   "source": [
    "import cv2\n",
    "import numpy as np\n",
    "import math\n",
    "cap = cv2.VideoCapture(0)"
   ]
  },
  {
   "cell_type": "code",
   "execution_count": 89,
   "metadata": {},
   "outputs": [
    {
     "ename": "TypeError",
     "evalue": "mat is not a numerical tuple",
     "output_type": "error",
     "traceback": [
      "\u001b[1;31m---------------------------------------------------------------------------\u001b[0m",
      "\u001b[1;31mTypeError\u001b[0m                                 Traceback (most recent call last)",
      "\u001b[1;32m<ipython-input-89-0ff6cb032830>\u001b[0m in \u001b[0;36m<module>\u001b[1;34m()\u001b[0m\n\u001b[0;32m     28\u001b[0m     \u001b[1;31m#res = 1^res\u001b[0m\u001b[1;33m\u001b[0m\u001b[1;33m\u001b[0m\u001b[0m\n\u001b[0;32m     29\u001b[0m     \u001b[0mcv2\u001b[0m\u001b[1;33m.\u001b[0m\u001b[0mimshow\u001b[0m\u001b[1;33m(\u001b[0m\u001b[1;34m'mask'\u001b[0m\u001b[1;33m,\u001b[0m\u001b[0mmask\u001b[0m\u001b[1;33m)\u001b[0m\u001b[1;33m\u001b[0m\u001b[0m\n\u001b[1;32m---> 30\u001b[1;33m     \u001b[0mcv2\u001b[0m\u001b[1;33m.\u001b[0m\u001b[0mimshow\u001b[0m\u001b[1;33m(\u001b[0m\u001b[1;34m'frame'\u001b[0m\u001b[1;33m,\u001b[0m\u001b[0mx\u001b[0m\u001b[1;33m)\u001b[0m\u001b[1;33m\u001b[0m\u001b[0m\n\u001b[0m\u001b[0;32m     31\u001b[0m     \u001b[0mcv2\u001b[0m\u001b[1;33m.\u001b[0m\u001b[0mimshow\u001b[0m\u001b[1;33m(\u001b[0m\u001b[1;34m'img'\u001b[0m\u001b[1;33m,\u001b[0m\u001b[0mres\u001b[0m\u001b[1;33m)\u001b[0m\u001b[1;33m\u001b[0m\u001b[0m\n\u001b[0;32m     32\u001b[0m     \u001b[0mk\u001b[0m \u001b[1;33m=\u001b[0m \u001b[0mcv2\u001b[0m\u001b[1;33m.\u001b[0m\u001b[0mwaitKey\u001b[0m\u001b[1;33m(\u001b[0m\u001b[1;36m5\u001b[0m\u001b[1;33m)\u001b[0m \u001b[1;33m&\u001b[0m \u001b[1;36m0xFF\u001b[0m\u001b[1;33m\u001b[0m\u001b[0m\n",
      "\u001b[1;31mTypeError\u001b[0m: mat is not a numerical tuple"
     ]
    }
   ],
   "source": [
    "while(1):\n",
    "    ret, frame = cap.read()\n",
    "    kernel = np.ones((3,3),np.uint8)\n",
    "    \n",
    "    \n",
    "    x = cv2.threshold(frame,127, 255, cv2.THRESH_TOZERO )\n",
    "    #while(1):\n",
    "    ret, frame = cap.read()\n",
    "    kernel = np.ones((3,3),np.uint8)\n",
    "    \n",
    "    \n",
    "    #x = cv2.threshold(frame,127, 255, cv2.THRESH_TOZERO )\n",
    "    #roi=frame[100:300, 100:300]\n",
    "    #cv2.rectangle(frame,(100,100),(300,300),(0,255,0),0)    \n",
    "    hsv = cv2.cvtColor(frame, cv2.COLOR_BGR2HSV)\n",
    "    \n",
    "    lower_skin = np.array([0,30,60], dtype=np.uint8)\n",
    "    upper_skin = np.array([20,150,255], dtype=np.uint8)\n",
    "    \n",
    "   # mask1 = cv2.inRange(hsv, lower_blue, upper_blue)\n",
    "    mask = cv2.inRange(hsv, lower_skin, upper_skin)\n",
    "    \n",
    "    #mask=cv2.bitwise_or(mask,mask1)\n",
    "    \n",
    "    mask=cv2.bitwise_not(mask)\n",
    "    #mask = cv2.dilate(mask,kernel,iterations = 4)\n",
    "    #mask = cv2.GaussianBlur(mask,(5,5),100)\n",
    "    \n",
    "    res = cv2.bitwise_and(frame,frame, mask= mask)\n",
    "    \n",
    "    #count += 1\n",
    "    #cv2.imwrite(\"dataset/User.\" + str(face_name) + '.' + str(count) + \".jpg\", gray[y:y+h,x:x+w])\n",
    "        \n",
    "    #res = 1^res\n",
    "    cv2.imshow('mask',mask)\n",
    "    cv2.imshow('frame',x)  \n",
    "    cv2.imshow('img',res)\n",
    "    k = cv2.waitKey(5) & 0xFF\n",
    "    if k == 27:\n",
    "        break\n",
    "    #elif count >= 30:\n",
    "     #    break\n",
    "cv2.destroyAllWindows()\n",
    "cap.release()  roi=frame[100:300, 100:300]\n",
    "    #cv2.rectangle(frame,(100,100),(300,300),(0,255,0),0)    \n",
    "    hsv = cv2.cvtColor(frame, cv2.COLOR_BGR2HSV)\n",
    "    \n",
    "    lower_skin = np.array([0,30,60], dtype=np.uint8)\n",
    "    upper_skin = np.array([20,150,255], dtype=np.uint8)\n",
    "    \n",
    "   # mask1 = cv2.inRange(hsv, lower_blue, upper_blue)\n",
    "    mask = cv2.inRange(hsv, lower_skin, upper_skin)\n",
    "    \n",
    "    #mask=cv2.bitwise_or(mask,mask1)\n",
    "    \n",
    "    mask=cv2.bitwise_not(mask)\n",
    "    #mask = cv2.dilate(mask,kernel,iterations = 4)\n",
    "    #mask = cv2.GaussianBlur(mask,(5,5),100)\n",
    "    \n",
    "    res = cv2.bitwise_and(frame,frame, mask= mask)\n",
    "    \n",
    "    #count += 1\n",
    "    #cv2.imwrite(\"dataset/User.\" + str(face_name) + '.' + str(count) + \".jpg\", gray[y:y+h,x:x+w])\n",
    "        \n",
    "    #res = 1^res\n",
    "    cv2.imshow('mask',mask)\n",
    "    cv2.imshow('frame',x)  \n",
    "    cv2.imshow('img',res)\n",
    "    k = cv2.waitKey(5) & 0xFF\n",
    "    if k == 27:\n",
    "        break\n",
    "    #elif count >= 30:\n",
    "     #    break\n",
    "cv2.destroyAllWindows()\n",
    "cap.release()  "
   ]
  },
  {
   "cell_type": "code",
   "execution_count": null,
   "metadata": {},
   "outputs": [],
   "source": []
  }
 ],
 "metadata": {
  "kernelspec": {
   "display_name": "Python 3",
   "language": "python",
   "name": "python3"
  },
  "language_info": {
   "codemirror_mode": {
    "name": "ipython",
    "version": 3
   },
   "file_extension": ".py",
   "mimetype": "text/x-python",
   "name": "python",
   "nbconvert_exporter": "python",
   "pygments_lexer": "ipython3",
   "version": "3.6.4"
  }
 },
 "nbformat": 4,
 "nbformat_minor": 2
}
